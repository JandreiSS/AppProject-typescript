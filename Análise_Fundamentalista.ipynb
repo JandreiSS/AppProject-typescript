{
  "nbformat": 4,
  "nbformat_minor": 0,
  "metadata": {
    "colab": {
      "name": "Análise Fundamentalista.ipynb",
      "provenance": [],
      "collapsed_sections": [],
      "authorship_tag": "ABX9TyOHfUagkfgwibg7koYUbz8e",
      "include_colab_link": true
    },
    "kernelspec": {
      "name": "python3",
      "display_name": "Python 3"
    }
  },
  "cells": [
    {
      "cell_type": "markdown",
      "metadata": {
        "id": "view-in-github",
        "colab_type": "text"
      },
      "source": [
        "<a href=\"https://colab.research.google.com/github/JandreiSS/AppProject-typescript/blob/master/An%C3%A1lise_Fundamentalista.ipynb\" target=\"_parent\"><img src=\"https://colab.research.google.com/assets/colab-badge.svg\" alt=\"Open In Colab\"/></a>"
      ]
    },
    {
      "cell_type": "code",
      "metadata": {
        "id": "g7PsqnqqHVgO",
        "colab_type": "code",
        "colab": {}
      },
      "source": [
        "import numpy as np\n",
        "import pandas as pd\n",
        "import string\n",
        "import requests\n",
        "import warnings\n",
        "warnings.filterwarnings('ignore')"
      ],
      "execution_count": 165,
      "outputs": []
    },
    {
      "cell_type": "code",
      "metadata": {
        "id": "0qVH6TQbHYUy",
        "colab_type": "code",
        "colab": {}
      },
      "source": [
        "url = 'http://fundamentus.com.br/resultado.php'"
      ],
      "execution_count": 166,
      "outputs": []
    },
    {
      "cell_type": "code",
      "metadata": {
        "id": "QRoqRLWvIE8Q",
        "colab_type": "code",
        "colab": {}
      },
      "source": [
        "header = {\n",
        "  \"User-Agent\": \"Mozilla/5.0 (X11; Linux x86_64) AppleWebKit/537.36 (KHTML, like Gecko) Chrome/50.0.2661.75 Safari/537.36\",\n",
        "  \"X-Requested-With\": \"XMLHttpRequest\"\n",
        "}"
      ],
      "execution_count": 167,
      "outputs": []
    },
    {
      "cell_type": "code",
      "metadata": {
        "id": "oijVwTEBIMAv",
        "colab_type": "code",
        "colab": {}
      },
      "source": [
        "r = requests.get(url, headers=header)"
      ],
      "execution_count": 168,
      "outputs": []
    },
    {
      "cell_type": "code",
      "metadata": {
        "id": "MzcZyIfoHfy_",
        "colab_type": "code",
        "colab": {}
      },
      "source": [
        "dflist = pd.read_html(r.text, thousands='.', decimal=',')[0]"
      ],
      "execution_count": 169,
      "outputs": []
    },
    {
      "cell_type": "code",
      "metadata": {
        "id": "6KLy975WTORj",
        "colab_type": "code",
        "colab": {}
      },
      "source": [
        "for coluna in ['Div.Yield', 'Mrg Ebit', 'Mrg. Líq.', 'ROIC', 'ROE', 'Cresc. Rec.5a']:\n",
        "  dflist[coluna] = dflist[coluna].str.replace('.', '')\n",
        "  dflist[coluna] = dflist[coluna].str.replace(',', '.')\n",
        "  dflist[coluna] = dflist[coluna].str.rstrip('%').astype('float') / 100"
      ],
      "execution_count": 170,
      "outputs": []
    },
    {
      "cell_type": "code",
      "metadata": {
        "id": "RA5St-BDHkFu",
        "colab_type": "code",
        "colab": {
          "base_uri": "https://localhost:8080/",
          "height": 456
        },
        "outputId": "103993c5-f792-47d0-95bc-bc31686d6f76"
      },
      "source": [
        "dflist"
      ],
      "execution_count": 171,
      "outputs": [
        {
          "output_type": "execute_result",
          "data": {
            "text/html": [
              "<div>\n",
              "<style scoped>\n",
              "    .dataframe tbody tr th:only-of-type {\n",
              "        vertical-align: middle;\n",
              "    }\n",
              "\n",
              "    .dataframe tbody tr th {\n",
              "        vertical-align: top;\n",
              "    }\n",
              "\n",
              "    .dataframe thead th {\n",
              "        text-align: right;\n",
              "    }\n",
              "</style>\n",
              "<table border=\"1\" class=\"dataframe\">\n",
              "  <thead>\n",
              "    <tr style=\"text-align: right;\">\n",
              "      <th></th>\n",
              "      <th>Papel</th>\n",
              "      <th>Cotação</th>\n",
              "      <th>P/L</th>\n",
              "      <th>P/VP</th>\n",
              "      <th>PSR</th>\n",
              "      <th>Div.Yield</th>\n",
              "      <th>P/Ativo</th>\n",
              "      <th>P/Cap.Giro</th>\n",
              "      <th>P/EBIT</th>\n",
              "      <th>P/Ativ Circ.Liq</th>\n",
              "      <th>EV/EBIT</th>\n",
              "      <th>EV/EBITDA</th>\n",
              "      <th>Mrg Ebit</th>\n",
              "      <th>Mrg. Líq.</th>\n",
              "      <th>Liq. Corr.</th>\n",
              "      <th>ROIC</th>\n",
              "      <th>ROE</th>\n",
              "      <th>Liq.2meses</th>\n",
              "      <th>Patrim. Líq</th>\n",
              "      <th>Dív.Brut/ Patrim.</th>\n",
              "      <th>Cresc. Rec.5a</th>\n",
              "    </tr>\n",
              "  </thead>\n",
              "  <tbody>\n",
              "    <tr>\n",
              "      <th>0</th>\n",
              "      <td>VNET3</td>\n",
              "      <td>0.00</td>\n",
              "      <td>0.00</td>\n",
              "      <td>0.00</td>\n",
              "      <td>0.000</td>\n",
              "      <td>0.0000</td>\n",
              "      <td>0.000</td>\n",
              "      <td>0.00</td>\n",
              "      <td>0.00</td>\n",
              "      <td>0.00</td>\n",
              "      <td>0.00</td>\n",
              "      <td>0.00</td>\n",
              "      <td>0.0000</td>\n",
              "      <td>0.0000</td>\n",
              "      <td>0.00</td>\n",
              "      <td>0.0000</td>\n",
              "      <td>0.1299</td>\n",
              "      <td>0.00</td>\n",
              "      <td>9.257250e+09</td>\n",
              "      <td>0.00</td>\n",
              "      <td>-0.0271</td>\n",
              "    </tr>\n",
              "    <tr>\n",
              "      <th>1</th>\n",
              "      <td>CFLU4</td>\n",
              "      <td>1000.00</td>\n",
              "      <td>0.00</td>\n",
              "      <td>0.00</td>\n",
              "      <td>0.000</td>\n",
              "      <td>0.0000</td>\n",
              "      <td>0.000</td>\n",
              "      <td>0.00</td>\n",
              "      <td>0.00</td>\n",
              "      <td>0.00</td>\n",
              "      <td>0.00</td>\n",
              "      <td>0.00</td>\n",
              "      <td>0.0888</td>\n",
              "      <td>0.1072</td>\n",
              "      <td>1.10</td>\n",
              "      <td>0.1768</td>\n",
              "      <td>0.3215</td>\n",
              "      <td>0.00</td>\n",
              "      <td>6.035100e+07</td>\n",
              "      <td>0.06</td>\n",
              "      <td>0.0814</td>\n",
              "    </tr>\n",
              "    <tr>\n",
              "      <th>2</th>\n",
              "      <td>CLAN3</td>\n",
              "      <td>0.00</td>\n",
              "      <td>0.00</td>\n",
              "      <td>0.00</td>\n",
              "      <td>0.000</td>\n",
              "      <td>0.0000</td>\n",
              "      <td>0.000</td>\n",
              "      <td>0.00</td>\n",
              "      <td>0.00</td>\n",
              "      <td>0.00</td>\n",
              "      <td>0.00</td>\n",
              "      <td>0.00</td>\n",
              "      <td>0.0000</td>\n",
              "      <td>0.0000</td>\n",
              "      <td>0.00</td>\n",
              "      <td>0.0000</td>\n",
              "      <td>-0.0105</td>\n",
              "      <td>0.00</td>\n",
              "      <td>1.012240e+09</td>\n",
              "      <td>0.00</td>\n",
              "      <td>-0.6396</td>\n",
              "    </tr>\n",
              "    <tr>\n",
              "      <th>3</th>\n",
              "      <td>CLSC6</td>\n",
              "      <td>0.00</td>\n",
              "      <td>0.00</td>\n",
              "      <td>0.00</td>\n",
              "      <td>0.000</td>\n",
              "      <td>0.0000</td>\n",
              "      <td>0.000</td>\n",
              "      <td>0.00</td>\n",
              "      <td>0.00</td>\n",
              "      <td>0.00</td>\n",
              "      <td>0.00</td>\n",
              "      <td>0.00</td>\n",
              "      <td>0.0000</td>\n",
              "      <td>0.0000</td>\n",
              "      <td>0.00</td>\n",
              "      <td>0.0000</td>\n",
              "      <td>0.2288</td>\n",
              "      <td>0.00</td>\n",
              "      <td>1.551160e+09</td>\n",
              "      <td>0.00</td>\n",
              "      <td>0.0666</td>\n",
              "    </tr>\n",
              "    <tr>\n",
              "      <th>4</th>\n",
              "      <td>CSTB3</td>\n",
              "      <td>150.00</td>\n",
              "      <td>0.00</td>\n",
              "      <td>0.00</td>\n",
              "      <td>0.000</td>\n",
              "      <td>0.0000</td>\n",
              "      <td>0.000</td>\n",
              "      <td>0.00</td>\n",
              "      <td>0.00</td>\n",
              "      <td>0.00</td>\n",
              "      <td>0.00</td>\n",
              "      <td>0.00</td>\n",
              "      <td>0.4085</td>\n",
              "      <td>0.2898</td>\n",
              "      <td>2.60</td>\n",
              "      <td>0.2240</td>\n",
              "      <td>0.2011</td>\n",
              "      <td>0.00</td>\n",
              "      <td>8.420670e+09</td>\n",
              "      <td>0.14</td>\n",
              "      <td>0.3191</td>\n",
              "    </tr>\n",
              "    <tr>\n",
              "      <th>...</th>\n",
              "      <td>...</td>\n",
              "      <td>...</td>\n",
              "      <td>...</td>\n",
              "      <td>...</td>\n",
              "      <td>...</td>\n",
              "      <td>...</td>\n",
              "      <td>...</td>\n",
              "      <td>...</td>\n",
              "      <td>...</td>\n",
              "      <td>...</td>\n",
              "      <td>...</td>\n",
              "      <td>...</td>\n",
              "      <td>...</td>\n",
              "      <td>...</td>\n",
              "      <td>...</td>\n",
              "      <td>...</td>\n",
              "      <td>...</td>\n",
              "      <td>...</td>\n",
              "      <td>...</td>\n",
              "      <td>...</td>\n",
              "      <td>...</td>\n",
              "    </tr>\n",
              "    <tr>\n",
              "      <th>882</th>\n",
              "      <td>CEPE6</td>\n",
              "      <td>20.00</td>\n",
              "      <td>1545.85</td>\n",
              "      <td>0.90</td>\n",
              "      <td>-18.326</td>\n",
              "      <td>0.0000</td>\n",
              "      <td>0.167</td>\n",
              "      <td>-9.71</td>\n",
              "      <td>71.38</td>\n",
              "      <td>-0.33</td>\n",
              "      <td>309.99</td>\n",
              "      <td>256.58</td>\n",
              "      <td>-0.2567</td>\n",
              "      <td>-0.0119</td>\n",
              "      <td>0.95</td>\n",
              "      <td>0.0027</td>\n",
              "      <td>0.0006</td>\n",
              "      <td>0.00</td>\n",
              "      <td>1.667000e+09</td>\n",
              "      <td>3.36</td>\n",
              "      <td>0.0863</td>\n",
              "    </tr>\n",
              "    <tr>\n",
              "      <th>883</th>\n",
              "      <td>CEPE3</td>\n",
              "      <td>24.53</td>\n",
              "      <td>1895.99</td>\n",
              "      <td>1.10</td>\n",
              "      <td>-22.477</td>\n",
              "      <td>0.0000</td>\n",
              "      <td>0.204</td>\n",
              "      <td>-11.91</td>\n",
              "      <td>87.55</td>\n",
              "      <td>-0.41</td>\n",
              "      <td>326.16</td>\n",
              "      <td>269.96</td>\n",
              "      <td>-0.2567</td>\n",
              "      <td>-0.0119</td>\n",
              "      <td>0.95</td>\n",
              "      <td>0.0027</td>\n",
              "      <td>0.0006</td>\n",
              "      <td>0.00</td>\n",
              "      <td>1.667000e+09</td>\n",
              "      <td>3.36</td>\n",
              "      <td>0.0863</td>\n",
              "    </tr>\n",
              "    <tr>\n",
              "      <th>884</th>\n",
              "      <td>CEPE5</td>\n",
              "      <td>27.00</td>\n",
              "      <td>2086.90</td>\n",
              "      <td>1.21</td>\n",
              "      <td>-24.740</td>\n",
              "      <td>0.0000</td>\n",
              "      <td>0.225</td>\n",
              "      <td>-13.11</td>\n",
              "      <td>96.37</td>\n",
              "      <td>-0.45</td>\n",
              "      <td>334.98</td>\n",
              "      <td>277.26</td>\n",
              "      <td>-0.2567</td>\n",
              "      <td>-0.0119</td>\n",
              "      <td>0.95</td>\n",
              "      <td>0.0027</td>\n",
              "      <td>0.0006</td>\n",
              "      <td>5643.21</td>\n",
              "      <td>1.667000e+09</td>\n",
              "      <td>3.36</td>\n",
              "      <td>0.0863</td>\n",
              "    </tr>\n",
              "    <tr>\n",
              "      <th>885</th>\n",
              "      <td>BRAP3</td>\n",
              "      <td>34.50</td>\n",
              "      <td>2128.93</td>\n",
              "      <td>1.14</td>\n",
              "      <td>0.000</td>\n",
              "      <td>0.0211</td>\n",
              "      <td>1.088</td>\n",
              "      <td>0.00</td>\n",
              "      <td>-687.46</td>\n",
              "      <td>0.00</td>\n",
              "      <td>-688.94</td>\n",
              "      <td>-688.94</td>\n",
              "      <td>0.0000</td>\n",
              "      <td>0.0000</td>\n",
              "      <td>0.00</td>\n",
              "      <td>0.0000</td>\n",
              "      <td>0.0005</td>\n",
              "      <td>533253.00</td>\n",
              "      <td>1.052240e+10</td>\n",
              "      <td>0.00</td>\n",
              "      <td>0.0000</td>\n",
              "    </tr>\n",
              "    <tr>\n",
              "      <th>886</th>\n",
              "      <td>BRAP4</td>\n",
              "      <td>38.15</td>\n",
              "      <td>2354.17</td>\n",
              "      <td>1.26</td>\n",
              "      <td>0.000</td>\n",
              "      <td>0.0210</td>\n",
              "      <td>1.204</td>\n",
              "      <td>0.00</td>\n",
              "      <td>-760.19</td>\n",
              "      <td>0.00</td>\n",
              "      <td>-761.67</td>\n",
              "      <td>-761.67</td>\n",
              "      <td>0.0000</td>\n",
              "      <td>0.0000</td>\n",
              "      <td>0.00</td>\n",
              "      <td>0.0000</td>\n",
              "      <td>0.0005</td>\n",
              "      <td>88043000.00</td>\n",
              "      <td>1.052240e+10</td>\n",
              "      <td>0.00</td>\n",
              "      <td>0.0000</td>\n",
              "    </tr>\n",
              "  </tbody>\n",
              "</table>\n",
              "<p>887 rows × 21 columns</p>\n",
              "</div>"
            ],
            "text/plain": [
              "     Papel  Cotação      P/L  ...   Patrim. Líq  Dív.Brut/ Patrim.  Cresc. Rec.5a\n",
              "0    VNET3     0.00     0.00  ...  9.257250e+09               0.00        -0.0271\n",
              "1    CFLU4  1000.00     0.00  ...  6.035100e+07               0.06         0.0814\n",
              "2    CLAN3     0.00     0.00  ...  1.012240e+09               0.00        -0.6396\n",
              "3    CLSC6     0.00     0.00  ...  1.551160e+09               0.00         0.0666\n",
              "4    CSTB3   150.00     0.00  ...  8.420670e+09               0.14         0.3191\n",
              "..     ...      ...      ...  ...           ...                ...            ...\n",
              "882  CEPE6    20.00  1545.85  ...  1.667000e+09               3.36         0.0863\n",
              "883  CEPE3    24.53  1895.99  ...  1.667000e+09               3.36         0.0863\n",
              "884  CEPE5    27.00  2086.90  ...  1.667000e+09               3.36         0.0863\n",
              "885  BRAP3    34.50  2128.93  ...  1.052240e+10               0.00         0.0000\n",
              "886  BRAP4    38.15  2354.17  ...  1.052240e+10               0.00         0.0000\n",
              "\n",
              "[887 rows x 21 columns]"
            ]
          },
          "metadata": {
            "tags": []
          },
          "execution_count": 171
        }
      ]
    },
    {
      "cell_type": "markdown",
      "metadata": {
        "id": "ZGXGAg_ZUvct",
        "colab_type": "text"
      },
      "source": [
        "#<strong>Analisando Dados</strong>"
      ]
    },
    {
      "cell_type": "code",
      "metadata": {
        "id": "mLdgkDf8Idn4",
        "colab_type": "code",
        "colab": {}
      },
      "source": [
        "df = dflist[dflist['Liq.2meses'] > 1000000]"
      ],
      "execution_count": 172,
      "outputs": []
    },
    {
      "cell_type": "markdown",
      "metadata": {
        "id": "CzbP_qpGWwfV",
        "colab_type": "text"
      },
      "source": [
        "<p><strong>Enterprise Value / Earnings Before Interest and Taxes</strong></p>\n",
        "<p>(Valor do Negócio / Lucro Antes dos Juros e Taxas)</p>"
      ]
    },
    {
      "cell_type": "code",
      "metadata": {
        "id": "QPg_prr-WL70",
        "colab_type": "code",
        "colab": {}
      },
      "source": [
        "ranking = pd.DataFrame()\n",
        "ranking['Position'] = range(1,151)\n",
        "ranking['EV/EBIT'] = df[df['EV/EBIT'] > 0].sort_values(by=['EV/EBIT'])['Papel'][:150].values\n",
        "ranking['ROIC'] = df.sort_values(by=['ROIC'], ascending=False)['Papel'][:150].values"
      ],
      "execution_count": 173,
      "outputs": []
    },
    {
      "cell_type": "code",
      "metadata": {
        "id": "9FLjZutuVnCY",
        "colab_type": "code",
        "colab": {
          "base_uri": "https://localhost:8080/",
          "height": 419
        },
        "outputId": "845f4a5e-6037-4dba-ace4-43203ad349ab"
      },
      "source": [
        "ranking"
      ],
      "execution_count": 174,
      "outputs": [
        {
          "output_type": "execute_result",
          "data": {
            "text/html": [
              "<div>\n",
              "<style scoped>\n",
              "    .dataframe tbody tr th:only-of-type {\n",
              "        vertical-align: middle;\n",
              "    }\n",
              "\n",
              "    .dataframe tbody tr th {\n",
              "        vertical-align: top;\n",
              "    }\n",
              "\n",
              "    .dataframe thead th {\n",
              "        text-align: right;\n",
              "    }\n",
              "</style>\n",
              "<table border=\"1\" class=\"dataframe\">\n",
              "  <thead>\n",
              "    <tr style=\"text-align: right;\">\n",
              "      <th></th>\n",
              "      <th>Position</th>\n",
              "      <th>EV/EBIT</th>\n",
              "      <th>ROIC</th>\n",
              "    </tr>\n",
              "  </thead>\n",
              "  <tbody>\n",
              "    <tr>\n",
              "      <th>0</th>\n",
              "      <td>1</td>\n",
              "      <td>PSSA3</td>\n",
              "      <td>WIZS3</td>\n",
              "    </tr>\n",
              "    <tr>\n",
              "      <th>1</th>\n",
              "      <td>2</td>\n",
              "      <td>SMLS3</td>\n",
              "      <td>PSSA3</td>\n",
              "    </tr>\n",
              "    <tr>\n",
              "      <th>2</th>\n",
              "      <td>3</td>\n",
              "      <td>ENAT3</td>\n",
              "      <td>TOTS3</td>\n",
              "    </tr>\n",
              "    <tr>\n",
              "      <th>3</th>\n",
              "      <td>4</td>\n",
              "      <td>WIZS3</td>\n",
              "      <td>ODPV3</td>\n",
              "    </tr>\n",
              "    <tr>\n",
              "      <th>4</th>\n",
              "      <td>5</td>\n",
              "      <td>VALE3</td>\n",
              "      <td>SMLS3</td>\n",
              "    </tr>\n",
              "    <tr>\n",
              "      <th>...</th>\n",
              "      <td>...</td>\n",
              "      <td>...</td>\n",
              "      <td>...</td>\n",
              "    </tr>\n",
              "    <tr>\n",
              "      <th>145</th>\n",
              "      <td>146</td>\n",
              "      <td>RADL3</td>\n",
              "      <td>JHSF3</td>\n",
              "    </tr>\n",
              "    <tr>\n",
              "      <th>146</th>\n",
              "      <td>147</td>\n",
              "      <td>PTBL3</td>\n",
              "      <td>CAML3</td>\n",
              "    </tr>\n",
              "    <tr>\n",
              "      <th>147</th>\n",
              "      <td>148</td>\n",
              "      <td>LOGG3</td>\n",
              "      <td>BRKM5</td>\n",
              "    </tr>\n",
              "    <tr>\n",
              "      <th>148</th>\n",
              "      <td>149</td>\n",
              "      <td>PNVL3</td>\n",
              "      <td>LOGG3</td>\n",
              "    </tr>\n",
              "    <tr>\n",
              "      <th>149</th>\n",
              "      <td>150</td>\n",
              "      <td>HAPV3</td>\n",
              "      <td>GFSA3</td>\n",
              "    </tr>\n",
              "  </tbody>\n",
              "</table>\n",
              "<p>150 rows × 3 columns</p>\n",
              "</div>"
            ],
            "text/plain": [
              "     Position EV/EBIT   ROIC\n",
              "0           1   PSSA3  WIZS3\n",
              "1           2   SMLS3  PSSA3\n",
              "2           3   ENAT3  TOTS3\n",
              "3           4   WIZS3  ODPV3\n",
              "4           5   VALE3  SMLS3\n",
              "..        ...     ...    ...\n",
              "145       146   RADL3  JHSF3\n",
              "146       147   PTBL3  CAML3\n",
              "147       148   LOGG3  BRKM5\n",
              "148       149   PNVL3  LOGG3\n",
              "149       150   HAPV3  GFSA3\n",
              "\n",
              "[150 rows x 3 columns]"
            ]
          },
          "metadata": {
            "tags": []
          },
          "execution_count": 174
        }
      ]
    },
    {
      "cell_type": "markdown",
      "metadata": {
        "id": "eeX9Ccz5aIwr",
        "colab_type": "text"
      },
      "source": [
        "Cálculo utilizando o rankeamento pela Fórmula Mágica: Buscar o papel, pegando a posição que ele tem no EV/EBIT e somando a posição que ele tem no ROIC. Quanto menor, melhor"
      ]
    },
    {
      "cell_type": "code",
      "metadata": {
        "id": "agIOJRtJaAjY",
        "colab_type": "code",
        "colab": {}
      },
      "source": [
        "auxA = ranking.pivot_table(columns='EV/EBIT', values='Position')\n",
        "auxB = ranking.pivot_table(columns='ROIC', values='Position')\n",
        "t = pd.concat([auxA, auxB])"
      ],
      "execution_count": 175,
      "outputs": []
    },
    {
      "cell_type": "code",
      "metadata": {
        "id": "JA3ps7uaa-Mb",
        "colab_type": "code",
        "colab": {
          "base_uri": "https://localhost:8080/",
          "height": 160
        },
        "outputId": "39159381-ff24-45a2-d197-0b9361dc8709"
      },
      "source": [
        "t"
      ],
      "execution_count": 176,
      "outputs": [
        {
          "output_type": "execute_result",
          "data": {
            "text/html": [
              "<div>\n",
              "<style scoped>\n",
              "    .dataframe tbody tr th:only-of-type {\n",
              "        vertical-align: middle;\n",
              "    }\n",
              "\n",
              "    .dataframe tbody tr th {\n",
              "        vertical-align: top;\n",
              "    }\n",
              "\n",
              "    .dataframe thead th {\n",
              "        text-align: right;\n",
              "    }\n",
              "</style>\n",
              "<table border=\"1\" class=\"dataframe\">\n",
              "  <thead>\n",
              "    <tr style=\"text-align: right;\">\n",
              "      <th></th>\n",
              "      <th>AALR3</th>\n",
              "      <th>ABEV3</th>\n",
              "      <th>AGRO3</th>\n",
              "      <th>ALPA4</th>\n",
              "      <th>ALSO3</th>\n",
              "      <th>ALUP11</th>\n",
              "      <th>AMAR3</th>\n",
              "      <th>ANIM3</th>\n",
              "      <th>ARZZ3</th>\n",
              "      <th>B3SA3</th>\n",
              "      <th>BEEF3</th>\n",
              "      <th>BRDT3</th>\n",
              "      <th>BRFS3</th>\n",
              "      <th>BRKM5</th>\n",
              "      <th>BRML3</th>\n",
              "      <th>BRPR3</th>\n",
              "      <th>CAMB3</th>\n",
              "      <th>CAML3</th>\n",
              "      <th>CARD3</th>\n",
              "      <th>CCPR3</th>\n",
              "      <th>CCRO3</th>\n",
              "      <th>CEAB3</th>\n",
              "      <th>CESP6</th>\n",
              "      <th>CIEL3</th>\n",
              "      <th>CLSC4</th>\n",
              "      <th>CMIG3</th>\n",
              "      <th>CMIG4</th>\n",
              "      <th>COCE5</th>\n",
              "      <th>COGN3</th>\n",
              "      <th>CPFE3</th>\n",
              "      <th>CPLE3</th>\n",
              "      <th>CPLE6</th>\n",
              "      <th>CRFB3</th>\n",
              "      <th>CSAN3</th>\n",
              "      <th>CSMG3</th>\n",
              "      <th>CSNA3</th>\n",
              "      <th>CVCB3</th>\n",
              "      <th>CYRE3</th>\n",
              "      <th>DIRR3</th>\n",
              "      <th>DTEX3</th>\n",
              "      <th>...</th>\n",
              "      <th>SAPR3</th>\n",
              "      <th>SAPR4</th>\n",
              "      <th>SBSP3</th>\n",
              "      <th>SEER3</th>\n",
              "      <th>SGPS3</th>\n",
              "      <th>SHUL4</th>\n",
              "      <th>SLCE3</th>\n",
              "      <th>SMLS3</th>\n",
              "      <th>SMTO3</th>\n",
              "      <th>SULA11</th>\n",
              "      <th>SUZB3</th>\n",
              "      <th>TASA4</th>\n",
              "      <th>TEND3</th>\n",
              "      <th>TESA3</th>\n",
              "      <th>TGMA3</th>\n",
              "      <th>TIET11</th>\n",
              "      <th>TIET4</th>\n",
              "      <th>TIMP3</th>\n",
              "      <th>TOTS3</th>\n",
              "      <th>TRIS3</th>\n",
              "      <th>TRPL4</th>\n",
              "      <th>TUPY3</th>\n",
              "      <th>UGPA3</th>\n",
              "      <th>UNIP6</th>\n",
              "      <th>USIM3</th>\n",
              "      <th>USIM5</th>\n",
              "      <th>VALE3</th>\n",
              "      <th>VIVT3</th>\n",
              "      <th>VIVT4</th>\n",
              "      <th>VLID3</th>\n",
              "      <th>VULC3</th>\n",
              "      <th>VVAR3</th>\n",
              "      <th>WIZS3</th>\n",
              "      <th>WSON33</th>\n",
              "      <th>YDUQ3</th>\n",
              "      <th>EZTC3</th>\n",
              "      <th>LWSA3</th>\n",
              "      <th>MGLU3</th>\n",
              "      <th>PRNR3</th>\n",
              "      <th>WEGE3</th>\n",
              "    </tr>\n",
              "  </thead>\n",
              "  <tbody>\n",
              "    <tr>\n",
              "      <th>Position</th>\n",
              "      <td>114.0</td>\n",
              "      <td>83.0</td>\n",
              "      <td>69.0</td>\n",
              "      <td>137.0</td>\n",
              "      <td>80.0</td>\n",
              "      <td>7.0</td>\n",
              "      <td>54.0</td>\n",
              "      <td>120.0</td>\n",
              "      <td>139.0</td>\n",
              "      <td>138.0</td>\n",
              "      <td>26.0</td>\n",
              "      <td>103.0</td>\n",
              "      <td>43.0</td>\n",
              "      <td>130.0</td>\n",
              "      <td>68.0</td>\n",
              "      <td>121.0</td>\n",
              "      <td>53.0</td>\n",
              "      <td>145.0</td>\n",
              "      <td>71.0</td>\n",
              "      <td>76.0</td>\n",
              "      <td>67.0</td>\n",
              "      <td>86.0</td>\n",
              "      <td>102.0</td>\n",
              "      <td>30.0</td>\n",
              "      <td>28.0</td>\n",
              "      <td>13.0</td>\n",
              "      <td>12.0</td>\n",
              "      <td>51.0</td>\n",
              "      <td>141.0</td>\n",
              "      <td>46.0</td>\n",
              "      <td>17.0</td>\n",
              "      <td>20.0</td>\n",
              "      <td>59.0</td>\n",
              "      <td>123.0</td>\n",
              "      <td>25.0</td>\n",
              "      <td>42.0</td>\n",
              "      <td>11.0</td>\n",
              "      <td>131.0</td>\n",
              "      <td>72.0</td>\n",
              "      <td>134.0</td>\n",
              "      <td>...</td>\n",
              "      <td>10.0</td>\n",
              "      <td>8.0</td>\n",
              "      <td>36.0</td>\n",
              "      <td>33.0</td>\n",
              "      <td>106.0</td>\n",
              "      <td>89.0</td>\n",
              "      <td>47.0</td>\n",
              "      <td>2.0</td>\n",
              "      <td>82.0</td>\n",
              "      <td>6.0</td>\n",
              "      <td>142.0</td>\n",
              "      <td>99.0</td>\n",
              "      <td>45.0</td>\n",
              "      <td>79.0</td>\n",
              "      <td>41.0</td>\n",
              "      <td>63.0</td>\n",
              "      <td>62.0</td>\n",
              "      <td>56.0</td>\n",
              "      <td>88.0</td>\n",
              "      <td>92.0</td>\n",
              "      <td>22.0</td>\n",
              "      <td>29.0</td>\n",
              "      <td>104.0</td>\n",
              "      <td>32.0</td>\n",
              "      <td>61.0</td>\n",
              "      <td>57.0</td>\n",
              "      <td>5.0</td>\n",
              "      <td>75.0</td>\n",
              "      <td>73.0</td>\n",
              "      <td>37.0</td>\n",
              "      <td>52.0</td>\n",
              "      <td>140.0</td>\n",
              "      <td>4.0</td>\n",
              "      <td>27.0</td>\n",
              "      <td>78.0</td>\n",
              "      <td>NaN</td>\n",
              "      <td>NaN</td>\n",
              "      <td>NaN</td>\n",
              "      <td>NaN</td>\n",
              "      <td>NaN</td>\n",
              "    </tr>\n",
              "    <tr>\n",
              "      <th>Position</th>\n",
              "      <td>141.0</td>\n",
              "      <td>15.0</td>\n",
              "      <td>83.0</td>\n",
              "      <td>20.0</td>\n",
              "      <td>131.0</td>\n",
              "      <td>29.0</td>\n",
              "      <td>52.0</td>\n",
              "      <td>116.0</td>\n",
              "      <td>30.0</td>\n",
              "      <td>34.0</td>\n",
              "      <td>9.0</td>\n",
              "      <td>98.0</td>\n",
              "      <td>70.0</td>\n",
              "      <td>148.0</td>\n",
              "      <td>127.0</td>\n",
              "      <td>NaN</td>\n",
              "      <td>57.0</td>\n",
              "      <td>147.0</td>\n",
              "      <td>46.0</td>\n",
              "      <td>115.0</td>\n",
              "      <td>42.0</td>\n",
              "      <td>105.0</td>\n",
              "      <td>136.0</td>\n",
              "      <td>35.0</td>\n",
              "      <td>124.0</td>\n",
              "      <td>67.0</td>\n",
              "      <td>66.0</td>\n",
              "      <td>96.0</td>\n",
              "      <td>NaN</td>\n",
              "      <td>37.0</td>\n",
              "      <td>63.0</td>\n",
              "      <td>62.0</td>\n",
              "      <td>50.0</td>\n",
              "      <td>114.0</td>\n",
              "      <td>41.0</td>\n",
              "      <td>56.0</td>\n",
              "      <td>40.0</td>\n",
              "      <td>130.0</td>\n",
              "      <td>122.0</td>\n",
              "      <td>126.0</td>\n",
              "      <td>...</td>\n",
              "      <td>14.0</td>\n",
              "      <td>12.0</td>\n",
              "      <td>36.0</td>\n",
              "      <td>72.0</td>\n",
              "      <td>NaN</td>\n",
              "      <td>90.0</td>\n",
              "      <td>73.0</td>\n",
              "      <td>5.0</td>\n",
              "      <td>88.0</td>\n",
              "      <td>102.0</td>\n",
              "      <td>145.0</td>\n",
              "      <td>87.0</td>\n",
              "      <td>25.0</td>\n",
              "      <td>139.0</td>\n",
              "      <td>8.0</td>\n",
              "      <td>24.0</td>\n",
              "      <td>23.0</td>\n",
              "      <td>78.0</td>\n",
              "      <td>3.0</td>\n",
              "      <td>53.0</td>\n",
              "      <td>51.0</td>\n",
              "      <td>60.0</td>\n",
              "      <td>106.0</td>\n",
              "      <td>77.0</td>\n",
              "      <td>128.0</td>\n",
              "      <td>129.0</td>\n",
              "      <td>18.0</td>\n",
              "      <td>103.0</td>\n",
              "      <td>104.0</td>\n",
              "      <td>94.0</td>\n",
              "      <td>65.0</td>\n",
              "      <td>110.0</td>\n",
              "      <td>1.0</td>\n",
              "      <td>28.0</td>\n",
              "      <td>17.0</td>\n",
              "      <td>117.0</td>\n",
              "      <td>99.0</td>\n",
              "      <td>107.0</td>\n",
              "      <td>140.0</td>\n",
              "      <td>11.0</td>\n",
              "    </tr>\n",
              "  </tbody>\n",
              "</table>\n",
              "<p>2 rows × 154 columns</p>\n",
              "</div>"
            ],
            "text/plain": [
              "          AALR3  ABEV3  AGRO3  ALPA4  ALSO3  ...  EZTC3  LWSA3  MGLU3  PRNR3  WEGE3\n",
              "Position  114.0   83.0   69.0  137.0   80.0  ...    NaN    NaN    NaN    NaN    NaN\n",
              "Position  141.0   15.0   83.0   20.0  131.0  ...  117.0   99.0  107.0  140.0   11.0\n",
              "\n",
              "[2 rows x 154 columns]"
            ]
          },
          "metadata": {
            "tags": []
          },
          "execution_count": 176
        }
      ]
    },
    {
      "cell_type": "code",
      "metadata": {
        "id": "XF2ZcqoIa_BK",
        "colab_type": "code",
        "colab": {
          "base_uri": "https://localhost:8080/",
          "height": 289
        },
        "outputId": "6a9bef7f-38c4-48a3-e78c-476bf8efe9e5"
      },
      "source": [
        "rank = t.dropna(axis=1).sum().sort_values()\n",
        "rank[:15]"
      ],
      "execution_count": 177,
      "outputs": [
        {
          "output_type": "execute_result",
          "data": {
            "text/plain": [
              "PSSA3      3.0\n",
              "WIZS3      5.0\n",
              "SMLS3      7.0\n",
              "SAPR4     20.0\n",
              "SAPR11    22.0\n",
              "VALE3     23.0\n",
              "SAPR3     24.0\n",
              "LEVE3     33.0\n",
              "EQTL3     33.0\n",
              "MRFG3     35.0\n",
              "BEEF3     35.0\n",
              "ALUP11    36.0\n",
              "TGMA3     49.0\n",
              "CVCB3     51.0\n",
              "ENAT3     52.0\n",
              "dtype: float64"
            ]
          },
          "metadata": {
            "tags": []
          },
          "execution_count": 177
        }
      ]
    },
    {
      "cell_type": "code",
      "metadata": {
        "id": "0uKrKU5jFOsp",
        "colab_type": "code",
        "colab": {}
      },
      "source": [
        "# Cotação, P/L, EBITDA, Div.Yield, ROE, EV/EBIT\n",
        "# Comparar papéis do mesmo setor\n",
        "lista = df.loc[:, ['Papel', 'Cotação', 'P/L', 'Div.Yield', 'ROE', 'EV/EBIT']]"
      ],
      "execution_count": 178,
      "outputs": []
    },
    {
      "cell_type": "code",
      "metadata": {
        "id": "cKer3MtZKOJc",
        "colab_type": "code",
        "colab": {
          "base_uri": "https://localhost:8080/",
          "height": 419
        },
        "outputId": "604916da-7ec5-4691-d9aa-ee78760f8d54"
      },
      "source": [
        "lista"
      ],
      "execution_count": 179,
      "outputs": [
        {
          "output_type": "execute_result",
          "data": {
            "text/html": [
              "<div>\n",
              "<style scoped>\n",
              "    .dataframe tbody tr th:only-of-type {\n",
              "        vertical-align: middle;\n",
              "    }\n",
              "\n",
              "    .dataframe tbody tr th {\n",
              "        vertical-align: top;\n",
              "    }\n",
              "\n",
              "    .dataframe thead th {\n",
              "        text-align: right;\n",
              "    }\n",
              "</style>\n",
              "<table border=\"1\" class=\"dataframe\">\n",
              "  <thead>\n",
              "    <tr style=\"text-align: right;\">\n",
              "      <th></th>\n",
              "      <th>Papel</th>\n",
              "      <th>Cotação</th>\n",
              "      <th>P/L</th>\n",
              "      <th>Div.Yield</th>\n",
              "      <th>ROE</th>\n",
              "      <th>EV/EBIT</th>\n",
              "    </tr>\n",
              "  </thead>\n",
              "  <tbody>\n",
              "    <tr>\n",
              "      <th>13</th>\n",
              "      <td>OMGE3</td>\n",
              "      <td>34.52</td>\n",
              "      <td>-9596.39</td>\n",
              "      <td>0.0000</td>\n",
              "      <td>-0.0002</td>\n",
              "      <td>29.36</td>\n",
              "    </tr>\n",
              "    <tr>\n",
              "      <th>15</th>\n",
              "      <td>SQIA3</td>\n",
              "      <td>23.71</td>\n",
              "      <td>-925.18</td>\n",
              "      <td>0.0000</td>\n",
              "      <td>-0.0043</td>\n",
              "      <td>2528.50</td>\n",
              "    </tr>\n",
              "    <tr>\n",
              "      <th>19</th>\n",
              "      <td>COGN3</td>\n",
              "      <td>8.68</td>\n",
              "      <td>-386.76</td>\n",
              "      <td>0.0039</td>\n",
              "      <td>-0.0023</td>\n",
              "      <td>34.00</td>\n",
              "    </tr>\n",
              "    <tr>\n",
              "      <th>22</th>\n",
              "      <td>CAML3</td>\n",
              "      <td>11.55</td>\n",
              "      <td>-321.15</td>\n",
              "      <td>0.0145</td>\n",
              "      <td>-0.0051</td>\n",
              "      <td>36.64</td>\n",
              "    </tr>\n",
              "    <tr>\n",
              "      <th>23</th>\n",
              "      <td>TUPY3</td>\n",
              "      <td>19.28</td>\n",
              "      <td>-307.94</td>\n",
              "      <td>0.0000</td>\n",
              "      <td>-0.0038</td>\n",
              "      <td>8.29</td>\n",
              "    </tr>\n",
              "    <tr>\n",
              "      <th>...</th>\n",
              "      <td>...</td>\n",
              "      <td>...</td>\n",
              "      <td>...</td>\n",
              "      <td>...</td>\n",
              "      <td>...</td>\n",
              "      <td>...</td>\n",
              "    </tr>\n",
              "    <tr>\n",
              "      <th>874</th>\n",
              "      <td>STBP3</td>\n",
              "      <td>5.67</td>\n",
              "      <td>338.84</td>\n",
              "      <td>0.0031</td>\n",
              "      <td>0.0084</td>\n",
              "      <td>65.54</td>\n",
              "    </tr>\n",
              "    <tr>\n",
              "      <th>876</th>\n",
              "      <td>LINX3</td>\n",
              "      <td>25.60</td>\n",
              "      <td>383.55</td>\n",
              "      <td>0.0044</td>\n",
              "      <td>0.0072</td>\n",
              "      <td>30.00</td>\n",
              "    </tr>\n",
              "    <tr>\n",
              "      <th>877</th>\n",
              "      <td>VALE3</td>\n",
              "      <td>57.65</td>\n",
              "      <td>414.55</td>\n",
              "      <td>0.0245</td>\n",
              "      <td>0.0041</td>\n",
              "      <td>5.53</td>\n",
              "    </tr>\n",
              "    <tr>\n",
              "      <th>878</th>\n",
              "      <td>LWSA3</td>\n",
              "      <td>47.55</td>\n",
              "      <td>416.45</td>\n",
              "      <td>0.0000</td>\n",
              "      <td>0.0227</td>\n",
              "      <td>149.65</td>\n",
              "    </tr>\n",
              "    <tr>\n",
              "      <th>886</th>\n",
              "      <td>BRAP4</td>\n",
              "      <td>38.15</td>\n",
              "      <td>2354.17</td>\n",
              "      <td>0.0210</td>\n",
              "      <td>0.0005</td>\n",
              "      <td>-761.67</td>\n",
              "    </tr>\n",
              "  </tbody>\n",
              "</table>\n",
              "<p>211 rows × 6 columns</p>\n",
              "</div>"
            ],
            "text/plain": [
              "     Papel  Cotação      P/L  Div.Yield     ROE  EV/EBIT\n",
              "13   OMGE3    34.52 -9596.39     0.0000 -0.0002    29.36\n",
              "15   SQIA3    23.71  -925.18     0.0000 -0.0043  2528.50\n",
              "19   COGN3     8.68  -386.76     0.0039 -0.0023    34.00\n",
              "22   CAML3    11.55  -321.15     0.0145 -0.0051    36.64\n",
              "23   TUPY3    19.28  -307.94     0.0000 -0.0038     8.29\n",
              "..     ...      ...      ...        ...     ...      ...\n",
              "874  STBP3     5.67   338.84     0.0031  0.0084    65.54\n",
              "876  LINX3    25.60   383.55     0.0044  0.0072    30.00\n",
              "877  VALE3    57.65   414.55     0.0245  0.0041     5.53\n",
              "878  LWSA3    47.55   416.45     0.0000  0.0227   149.65\n",
              "886  BRAP4    38.15  2354.17     0.0210  0.0005  -761.67\n",
              "\n",
              "[211 rows x 6 columns]"
            ]
          },
          "metadata": {
            "tags": []
          },
          "execution_count": 179
        }
      ]
    },
    {
      "cell_type": "code",
      "metadata": {
        "id": "fjJVMtKKhf2p",
        "colab_type": "code",
        "colab": {}
      },
      "source": [
        "from concurrent.futures import ThreadPoolExecutor, as_completed"
      ],
      "execution_count": 180,
      "outputs": []
    },
    {
      "cell_type": "code",
      "metadata": {
        "id": "Dr1PNJwChidz",
        "colab_type": "code",
        "colab": {}
      },
      "source": [
        "def get(url, timeout):\n",
        "    return requests.get(url, headers=header, timeout = timeout)"
      ],
      "execution_count": 181,
      "outputs": []
    },
    {
      "cell_type": "code",
      "metadata": {
        "id": "UYIvhEkWhnqo",
        "colab_type": "code",
        "colab": {}
      },
      "source": [
        "def requestUrls(urls, timeout = 5):\n",
        "    with ThreadPoolExecutor(max_workers = 5) as executor:\n",
        "        agenda = { executor.submit(get, url, timeout): url for url in urls }\n",
        "\n",
        "        for tarefa in as_completed(agenda):     \n",
        "            try:\n",
        "                conteudo = tarefa.result()\n",
        "            except Exception as e:\n",
        "                print (\"Não foi possível fazer a requisição! \\n{}\".format(e))\n",
        "            else:\n",
        "                yield conteudo"
      ],
      "execution_count": 182,
      "outputs": []
    },
    {
      "cell_type": "code",
      "metadata": {
        "id": "RHYu9JMyhuOt",
        "colab_type": "code",
        "colab": {}
      },
      "source": [
        "urls = 'https://www.fundamentus.com.br/detalhes.php?papel=' + lista['Papel'].values"
      ],
      "execution_count": 183,
      "outputs": []
    },
    {
      "cell_type": "code",
      "metadata": {
        "id": "VtbdJg2Ah2Ay",
        "colab_type": "code",
        "colab": {}
      },
      "source": [
        "requisicoes = requestUrls(urls, timeout=7)"
      ],
      "execution_count": 184,
      "outputs": []
    },
    {
      "cell_type": "code",
      "metadata": {
        "id": "K4CZnyguiEKj",
        "colab_type": "code",
        "colab": {}
      },
      "source": [
        "for requisicao in requisicoes:\n",
        "    codigo = requisicao.status_code\n",
        "    url = requisicao.url\n",
        "    conteudo = requisicao.content\n",
        "    lista_empresas = [conteudo]\n",
        "    # print (\"{}: {}\".format(codigo, url))"
      ],
      "execution_count": 185,
      "outputs": []
    },
    {
      "cell_type": "code",
      "metadata": {
        "id": "El1-s34w7QfE",
        "colab_type": "code",
        "colab": {
          "base_uri": "https://localhost:8080/",
          "height": 34
        },
        "outputId": "46dfcf80-3ff0-4aa8-d617-3388e643360b"
      },
      "source": [
        "type(lista_empresas)"
      ],
      "execution_count": 186,
      "outputs": [
        {
          "output_type": "execute_result",
          "data": {
            "text/plain": [
              "list"
            ]
          },
          "metadata": {
            "tags": []
          },
          "execution_count": 186
        }
      ]
    },
    {
      "cell_type": "code",
      "metadata": {
        "id": "hFDI0SXv9J84",
        "colab_type": "code",
        "colab": {
          "base_uri": "https://localhost:8080/",
          "height": 54
        },
        "outputId": "0daa33da-ea94-4cff-db07-c901a2b8be10"
      },
      "source": [
        "lista_empresas"
      ],
      "execution_count": 187,
      "outputs": [
        {
          "output_type": "execute_result",
          "data": {
            "text/plain": [
              "[b'<!DOCTYPE HTML PUBLIC \"-//W3C//DTD HTML 4.01//EN\" \"http://www.w3.org/TR/html4/strict.dtd\">\\n<html lang=\"pt-br\">\\n<head>\\n\\t<meta http-equiv=\"Content-Type\" content=\"text/html; charset=iso-8859-1\">\\n<title>FUNDAMENTUS - BRAP4 - Invista consciente - Indicadores Fundamentalistas</title>\\n\\t\\n\\t<link rel=\"stylesheet\" href=\"css/estilo.css\" type=\"text/css\" media=\"screen, projection\">\\n\\t<link rel=\"stylesheet\" href=\"css/print.css\" type=\"text/css\" media=\"print\">\\n\\t<link rel=\"shortcut icon\" href=\"img/fundamentus.ico\" type=\"image/x-icon\">\\n\\t<!--[if lte IE 6]>\\n\\t\\t<link rel=\"stylesheet\" type=\"text/css\" href=\"css/menu_ie6.css\">\\n\\t\\t<script type=\"text/javascript\" src=\"script/ADxMenu.js\"></script>\\n\\t<![endif]-->\\n\\t<!-- <script src=\"script/mootools.svn.js\" type=\"text/javascript\"></script>  -->\\n<script src=\"//ajax.googleapis.com/ajax/libs/mootools/1.11/mootools-yui-compressed.js\" type=\"text/javascript\"></script>\\n\\n<!-- Facebook Pixel Code -->\\n<script>\\n  !function(f,b,e,v,n,t,s)\\n  {if(f.fbq)return;n=f.fbq=function(){n.callMethod?\\n  n.callMethod.apply(n,arguments):n.queue.push(arguments)};\\n  if(!f._fbq)f._fbq=n;n.push=n;n.loaded=!0;n.version=\\'2.0\\';\\n  n.queue=[];t=b.createElement(e);t.async=!0;\\n  t.src=v;s=b.getElementsByTagName(e)[0];\\n  s.parentNode.insertBefore(t,s)}(window, document,\\'script\\',\\n  \\'https://connect.facebook.net/en_US/fbevents.js\\');\\n  fbq(\\'init\\', \\'180895865796070\\');\\n  fbq(\\'track\\', \\'PageView\\');\\n</script>\\n<noscript><img height=\"1\" width=\"1\" style=\"display:none\"\\n  src=\"https://www.facebook.com/tr?id=180895865796070&ev=PageView&noscript=1\"\\n/></noscript>\\n<!-- End Facebook Pixel Code -->\\t<script type=\"text/javascript\" src=\"script/Observer.js\"></script>\\n\\t<script type=\"text/javascript\" src=\"script/Autocompleter.js\"></script>\\n\\t<script src=\"script/cmplte.php\" type=\"text/javascript\" language=\"JavaScript\"></script>\\n\\t\\n\\t<script src=\"script/tip.js\" type=\"text/javascript\" language=\"JavaScript\"></script>\\n\\t<script type=\"text/javascript\">\\n\\t\\tfunction poApple() { }\\n\\t</script>\\t\\n\\t\\n</head>\\n<body class=\"detalhes\">\\n\\t<!-- ClickTale Top part -->\\n<script type=\"text/javascript\">\\nvar WRInitTime=(new Date()).getTime();\\n</script>\\n<!-- ClickTale end of Top part -->\\n\\t\\n\\t<div class=\"center\">\\n\\t\\t\\t<script>\\t\\tfunction validateForm() {\\t\\t\\tlet form = document.createElement(\\'form\\');\\t\\t\\tform.action = \\'/detalhes.php\\';\\t\\t\\tform.method = \\'GET\\';\\t\\t\\tform.innerHTML = \\'<input name=\"papel\" value=\"\\'+document.forms[0][\"papel\"].value.toUpperCase()+\\'\">\\';\\t\\t\\tdocument.body.append(form);\\t\\t\\tform.submit();\\t\\t\\treturn false;\\t\\t}\\t</script>\\t\\t<div class=\"topo\">\\t\\t<a href=\"index.php\"><img class=\"logo\" src=\"img/logo.gif\" alt=\"FUNDAMENTUS - Invista consciente\"></a>\\t\\t\\t<div class=\"avancada\"><a href=\"buscaavancada.php\">Busca avan\\xe7ada por empresa</a></div>\\t\\t\\t<form class=\"busca\" method=\"get\" action=\"detalhes.php\" onsubmit=\"return validateForm() \">\\t\\t\\t\\t<fieldset>\\t\\t\\t\\t\\t<legend>Procurar por a\\xe7\\xe3o/empresa</legend>\\t\\t\\t\\t\\t<input class=\"texto\" autocomplete=\"off\" id=\"completar\" name=\"papel\" type=\"text\"><input type=\"image\" src=\"img/bt_exibir.jpg\" class=\"botao\" value=\"Exibir\"><br>\\t\\t\\t\\t</fieldset>\\t\\t\\t</form>      <div class=\"atual\"><p>Voc\\xea est\\xe1 vendo<strong>BRAP4</strong></p></div>\\t\\t\\t<div id=\"containerMenu\">\\t\\t\\t\\t<ul id=\"menu\" class=\"institucional adxm menu\">\\t\\t\\t\\t\\t<li><a class=\"home\" href=\"index.php\">P\\xe1gina inicial</a></li>\\t\\t\\t\\t\\t<!--- <li><a class=\"conheca\" href=\"conheca.php\">Conhe\\xe7a o sistema</a></li> --->\\t\\t\\t\\t\\t<li><a class=\"consciente\" href=\"consciente.php\">Investimento consciente</a></li>\\t\\t\\t\\t\\t<li><a class=\"contato\" href=\"contato.php\">Entre em contato</a></li>          \\t\\t\\t\\t</ul>\\t\\t\\t\\t<ul id=\"menu\" class=\"software adxm menu\">\\t\\t\\t\\t\\t<li><a class=\"detalhes\" href=\"detalhes.php\">Detalhes</a></li>\\t\\t\\t\\t\\t<li><a class=\"graficos\" onClick=\"poApple()\" >Gr\\xe1ficos</a>\\t\\t\\t\\t\\t\\t<ul>\\t\\t\\t\\t\\t\\t\\t<li><a href=\"graficos.php?papel=BRAP4&tipo=1\">Balan\\xe7o patrimonial</a></li>\\t\\t\\t\\t\\t\\t\\t<li><a href=\"graficos.php?papel=BRAP4&tipo=2\">Demonstrativos de resultados</a></li>\\t\\t<li><a href=\"graficos.php?papel=BRAP4&tipo=4\">Fluxo de caixa</a></li>\\t\\t\\t\\t\\t<li><a href=\"graficos.php?papel=BRAP4&tipo=3\">Indicadores fundamentalistas</a></li>\\t\\t\\t\\t\\t\\t</ul>\\t\\t\\t\\t\\t</li>\\t\\t\\t\\t\\t<li><a class=\"historicos\" onClick=\"poApple()\">Dados Hist\\xf3ricos</a>\\t\\t\\t\\t\\t\\t<ul class=\"provetos\">\\t\\t\\t\\t\\t\\t\\t<li><a class=\"dh\" href=\"balancos.php?papel=BRAP4&tipo=1\">Balan\\xe7os em Excel</a></li>\\t\\t\\t\\t\\t\\t\\t<li><a class=\"dh\" href=\"proventos.php?papel=BRAP4&tipo=2\">Proventos</a></li>\\t\\t\\t\\t\\t\\t</ul>\\t\\t\\t\\t\\t</li>\\t\\t\\t\\t\\t<li><a class=\"cotacoes\" href=\"cotacoes.php?papel=BRAP4\">Hist\\xf3rico de cota\\xe7\\xf5es</a></li>\\t\\t\\t\\t\\t</li>\\t\\t\\t\\t</ul>\\t\\t\\t</div>\\t\\t</div>\\t\\t<div class=\"conteudo clearfix\">\\n\\t\\t\\t\\t\\n  <div style=\"float: right; width: 180px;\">\\n<script async src=\"https://pagead2.googlesyndication.com/pagead/js/adsbygoogle.js\"></script>\\n<!-- anuncioVerticalDireita -->\\n<ins class=\"adsbygoogle\"\\n     style=\"display:inline-block;width:160px;height:600px\"\\n     data-ad-client=\"ca-pub-3119085269630402\"\\n     data-ad-slot=\"8411733769\"></ins>\\n<script>\\n     (adsbygoogle = window.adsbygoogle || []).push({});\\n</script>\\n</div>\\n\\t\\t\\t<table class=\"w728\">\\n\\t\\t\\t\\t<tr>\\n\\t\\t\\t\\t\\t<td class=\"label w15\"><span class=\"help tips\" title=\"C\\xf3digo da a\\xe7\\xe3o\">?</span><span class=\"txt\">Papel</span></td>\\n\\t\\t\\t\\t\\t<td class=\"data w35\"><span class=\"txt\">BRAP4</span></td>\\n\\t\\t\\t\\t\\t<td class=\"label destaque w2\"><span class=\"help tips\" title=\"Cota\\xe7\\xe3o de fechamento da a\\xe7\\xe3o no \\xfaltimo preg\\xe3o\">?</span><span class=\"txt\">Cota\\xe7\\xe3o</span></td>\\n\\t\\t\\t\\t\\t<td class=\"data destaque w3\"><span class=\"txt\">38,15</span></td>\\n\\t\\t\\t\\t</tr>\\n\\t\\t\\t\\t<tr>\\n\\t\\t\\t\\t\\t<td class=\"label\"><span class=\"help tips\" title=\"ON = Ordin\\xe1ria, PN = Preferencial, PNA = Pref. tipo A, etc\">?</span><span class=\"txt\">Tipo</span></td>\\n\\t\\t\\t\\t\\t<td class=\"data\"><span class=\"txt\">PN N1</span></td>\\n\\t\\t\\t\\t\\t<td class=\"label\"><span class=\"help tips\" title=\"Data do \\xfaltimo preg\\xe3o em  que o ativo foi negociado\">?</span><span class=\"txt\">Data \\xfalt cot</span></td>\\n\\t\\t\\t\\t\\t<td class=\"data\"><span class=\"txt\">13/07/2020</span></td>\\n\\t\\t\\t\\t</tr>\\n\\t\\t\\t\\t<tr>\\n\\t\\t\\t\\t\\t<td class=\"label\"><span class=\"help tips\" title=\"Nome comercial da empresa.\">?</span><span class=\"txt\">Empresa</span></td>\\n\\t\\t\\t\\t\\t<td class=\"data\"><span class=\"txt\">BRADESPAR S/A PN N1</span></td>\\n\\t\\t\\t\\t\\t<td class=\"label\"><span class=\"help tips\" title=\"Menor cota\\xe7\\xe3o da a\\xe7\\xe3o nos \\xfaltimos 12 meses.\">?</span><span class=\"txt\">Min 52 sem</span></td>\\n\\t\\t\\t\\t\\t<td class=\"data\"><span class=\"txt\">24,35</span></td>\\n\\t\\t\\t\\t</tr>\\n\\t\\t\\t\\t<tr>\\n\\t\\t\\t\\t\\t<td class=\"label\"><span class=\"help tips\" title=\"Classifica\\xe7\\xe3o setorial\">?</span><span class=\"txt\">Setor</span></td>\\n\\t\\t\\t\\t\\t<td class=\"data\"><span class=\"txt\"><a href=\"resultado.php?setor=40\">Holdings Diversificadas</a></span></td>\\n\\t\\t\\t\\t\\t<td class=\"label\"><span class=\"help tips\" title=\"Maior cota\\xe7\\xe3o da a\\xe7\\xe3o nos \\xfaltimos 12 meses\">?</span><span class=\"txt\">Max 52 sem</span></td>\\n\\t\\t\\t\\t\\t<td class=\"data\"><span class=\"txt\">42,39</span></td>\\n\\t\\t\\t\\t</tr>\\n\\t\\t\\t\\t<tr>\\n\\t\\t\\t\\t\\t<td class=\"label\"><span class=\"help tips\" title=\"Classifica\\xe7\\xe3o por segmento de atua\\xe7\\xe3o.\">?</span><span class=\"txt\">Subsetor</span></td>\\n\\t\\t\\t\\t\\t<td class=\"data\"><span class=\"txt\"><a href=\"resultado.php?segmento=81\">Holdings Diversificadas</a></span></td>\\n\\t\\t\\t\\t\\t<td class=\"label\"><span class=\"help tips\" title=\"Volume m\\xe9dio de negocia\\xe7\\xe3o da a\\xe7\\xe3o nos \\xfaltimos 2 meses (R$)\">?</span><span class=\"txt\">Vol $ m\\xe9d (2m)</span></td>\\n\\t\\t\\t\\t\\t<td class=\"data\"><span class=\"txt\">88.043.000</span></td>\\n\\t\\t\\t\\t</tr>\\n\\t\\t\\t</table>\\n\\t\\t\\t<table class=\"w728\">\\n\\t\\t\\t\\t<tr>\\n\\t\\t\\t\\t\\t<td class=\"label w2\"><span class=\"help tips\" title=\"Valor de mercado da empresa, calculado multiplicando o pre\\xe7o da a\\xe7\\xe3o pelo n\\xfamero total de a\\xe7\\xf5es.\">?</span><span class=\"txt\">Valor de mercado</span></td>\\n\\t\\t\\t\\t\\t<td class=\"data w3\"><span class=\"txt\">13.277.500.000</span></td>\\n\\t\\t\\t\\t\\t<td class=\"label w3\"><span class=\"help tips\" title=\"Data do \\xfaltimo balan\\xe7o divulgado pela empresa que consta no nosso banco de dados. Todos os indicadores s\\xe3o calculados considerando os \\xfaltimos 12 meses finalizados na data deste balan\\xe7o.\">?</span><span class=\"txt\">\\xdalt balan\\xe7o processado</span></td>\\n\\t\\t\\t\\t\\t<td class=\"data w2\"><span class=\"txt\">31/03/2020</span></td>\\n\\t\\t\\t\\t</tr>\\n\\t\\t\\t\\t<tr>\\n\\t\\t\\t\\t\\t<td class=\"label w2\"><span class=\"help tips\" title=\"Valor da firma (Enterprise Value) \\xe9 calculado somando o valor de mercado da empresa a sua d\\xedvida l\\xedquida.\">?</span><span class=\"txt\">Valor da firma</span></td>\\n\\t\\t\\t\\t\\t<td class=\"data w3\"><span class=\"txt\">13.303.300.000</span></td>\\n\\t\\t\\t\\t\\t<td class=\"label\"><span class=\"help tips\" title=\"N\\xfamero total de a\\xe7\\xf5es, somadas todas as esp\\xe9cies: ON, PN, etc\">?</span><span class=\"txt\">Nro. A\\xe7\\xf5es</span></td>\\n\\t\\t\\t\\t\\t<td class=\"data\"><span class=\"txt\">348.034.000</span></td>\\n\\t\\t\\t\\t</tr>\\n\\t\\t\\t</table>\\n\\t\\t\\t<table class=\"w728\">\\n\\t\\t\\t\\t<tr>\\n\\t\\t\\t\\t\\t<td class=\"nivel1\" colspan=\"2\"><span class=\"txt\">Oscila\\xe7\\xf5es</span></td>\\n\\t\\t\\t\\t\\t<td class=\"nivel1\" colspan=\"4\"><span class=\"txt\">Indicadores fundamentalistas</span></td>\\n\\t\\t\\t\\t</tr>\\n\\t\\t\\t\\t<tr>\\n\\t\\t\\t\\t\\t<td class=\"label w1\"><span class=\"txt\">Dia</span></td>\\n\\t\\t\\t\\t\\t<td class=\"data w1\"><span class=\"oscil\"><font color=\"#306EFF\">1,57%</font></span></td>\\n\\t\\t\\t\\t\\t<td class=\"label w2\"><span class=\"help tips\" title=\"Pre\\xe7o da a\\xe7\\xe3o dividido pelo lucro por a\\xe7\\xe3o. O P/L \\xe9 o n\\xfamero de anos que se levaria para reaver o capital aplicado na compra de uma a\\xe7\\xe3o, atrav\\xe9s do recebimento do lucro gerado pela empresa, considerando que esses lucros permane\\xe7am constantes.\">?</span><span class=\"txt\">P/L</span></td>\\n\\t\\t\\t\\t\\t<td class=\"data w2\"><span class=\"txt\">2.354,17</span></td>\\n\\t\\t\\t\\t\\t<td class=\"label w2\"><span class=\"help tips\" title=\"Lucro por A\\xe7\\xe3o\">?</span><span class=\"txt\">LPA</span></td>\\n\\t\\t\\t\\t\\t<td class=\"data w2\"><span class=\"txt\">0,02</span></td>\\n\\t\\t\\t\\t</tr>\\n\\t\\t\\t\\t<tr>\\n\\t\\t\\t\\t\\t<td class=\"label w1\"><span class=\"txt\">M\\xeas</span></td>\\n\\t\\t\\t\\t\\t<td class=\"data w1\"><span class=\"oscil\"><font color=\"#306EFF\">4,49%</font></span></td>\\n\\t\\t\\t\\t\\t<td class=\"label w2\"><span class=\"help tips\" title=\"Pre\\xe7o da a\\xe7\\xe3o dividido pelo Valor Patrimonial por a\\xe7\\xe3o. Informa quanto o mercado est\\xe1 disposto a pagar sobre o Patrim\\xf4nio L\\xedquido da empresa\">?</span><span class=\"txt\">P/VP</span></td>\\n\\t\\t\\t\\t\\t<td class=\"data w2\"><span class=\"txt\">1,26</span></td>\\n\\t\\t\\t\\t\\t<td class=\"label w2\"><span class=\"help tips\" title=\"Valor Patrimonial por A\\xe7\\xe3o: Valor do Patrim\\xf4nio L\\xedquido dividido pelo n\\xfamero total de a\\xe7\\xf5es.\">?</span><span class=\"txt\">VPA</span></td>\\n\\t\\t\\t\\t\\t<td class=\"data w2\"><span class=\"txt\">30,23</span></td>\\n\\t\\t\\t\\t</tr>\\n\\t\\t\\t\\t<tr>\\n\\t\\t\\t\\t\\t<td class=\"label w1\"><span class=\"txt\">30 dias</span></td>\\n\\t\\t\\t\\t\\t<td class=\"data w1\"><span class=\"oscil\"><font color=\"#306EFF\">7,77%</font></span></td>\\n\\t\\t\\t\\t\\t<td class=\"label w2\"><span class=\"help tips\" title=\"Pre\\xe7o da a\\xe7\\xe3o dividido pelo EBIT por a\\xe7\\xe3o. EBIT \\xe9 o Lucro antes dos Impostos e Despesas Financeiras. \\xc9 uma boa aproxima\\xe7\\xe3o do lucro operacional da empresa.\">?</span><span class=\"txt\">P/EBIT</span></td>\\n\\t\\t\\t\\t\\t<td class=\"data w2\"><span class=\"txt\">\\n          -760,19</span></td>\\n\\t\\t\\t\\t\\t<td class=\"label\"><span class=\"help tips\" title=\"Lucro Bruto dividido pela Receita L\\xedquida: Indica a porcentagem de cada R$1 de venda que sobrou ap\\xf3s o custo dos produtos/servi\\xe7os vendidos\">?</span><span class=\"txt\">Marg. Bruta</span></td>\\n\\t\\t\\t\\t\\t<td class=\"data\"><span class=\"txt\">\\n          -</span></td>\\n\\t\\t\\t\\t</tr>\\n\\t\\t\\t\\t<tr>\\n\\t\\t\\t\\t\\t<td class=\"label w1\"><span class=\"txt\">12 meses</span></td>\\n\\t\\t\\t\\t\\t<td class=\"data w1\"><span class=\"oscil\"><font color=\"#306EFF\">18,66%</font></span></td>\\n\\t\\t\\t\\t\\t<td class=\"label\"><span class=\"help tips\" title=\"Price Sales Ratio: Pre\\xe7o da a\\xe7\\xe3o dividido pela Receita L\\xedquida por a\\xe7\\xe3o\">?</span><span class=\"txt\">PSR</span></td>\\n\\t\\t\\t\\t\\t<td class=\"data\"><span class=\"txt\">\\n          -</span></td>\\n\\t\\t\\t\\t\\t<td class=\"label\"><span class=\"help tips\" title=\"EBIT dividido pela Receita L\\xedquida: Indica a porcentagem de cada R$1 de venda que sobrou ap\\xf3s o pagamento dos custos dos produtos/servi\\xe7os vendidos, das despesas com vendas, gerais e administrativas\">?</span><span class=\"txt\">Marg. EBIT</span></td>\\n\\t\\t\\t\\t\\t<td class=\"data\"><span class=\"txt\">\\n          -</span></td>\\n\\t\\t\\t\\t</tr>\\n\\t\\t\\t\\t<tr>\\n\\t\\t\\t\\t\\t<td class=\"label w1\"><span class=\"txt\">2020</span></td>\\n\\t\\t\\t\\t\\t<td class=\"data w1\"><span class=\"oscil\"><font color=\"#F75D59\">-0,34%</font></span></td>\\n\\t\\t\\t\\t\\t<td class=\"label w2\"><span class=\"help tips\" title=\"Pre\\xe7o da a\\xe7\\xe3o dividido pelos Ativos totais por a\\xe7\\xe3o.\">?</span><span class=\"txt\">P/Ativos</span></td>\\n\\t\\t\\t\\t\\t<td class=\"data w2\"><span class=\"txt\">\\n          1,20</span></td>\\n\\t\\t\\t\\t\\t<td class=\"label\"><span class=\"help tips\" title=\"Lucro L\\xedquido dividido pela Receita L\\xedquida\">?</span><span class=\"txt\">Marg. L\\xedquida</span></td>\\n\\t\\t\\t\\t\\t<td class=\"data\"><span class=\"txt\">\\n          0,0%</span></td>\\n\\t\\t\\t\\t</tr>\\n\\t\\t\\t\\t<tr>\\n\\t\\t\\t\\t\\t<td class=\"label w1\"><span class=\"txt\">2019</span></td>\\n\\t\\t\\t\\t\\t<td class=\"data w1\"><span class=\"oscil\"><font color=\"#306EFF\">27,23%</font></span></td>\\n\\t\\t\\t\\t\\t<td class=\"label w2\"><span class=\"help tips\" title=\"Pre\\xe7o da a\\xe7\\xe3o dividido pelo capital de giro por a\\xe7\\xe3o. Capital de giro \\xe9 o Ativo Circulante menos Passivo Circulante\">?</span><span class=\"txt\">P/Cap. Giro</span></td>\\n\\t\\t\\t\\t\\t<td class=\"data w2\"><span class=\"txt\">\\n          -</span></td>\\n\\t\\t\\t\\t\\t<td class=\"label\"><span class=\"help tips\" title=\"EBIT dividido por Ativos totais\">?</span><span class=\"txt\">EBIT / Ativo</span></td>\\n\\t\\t\\t\\t\\t<td class=\"data\"><span class=\"txt\">-0,2%</span></td>\\n\\t\\t\\t\\t</tr>\\n\\t\\t\\t\\t<tr>\\n\\t\\t\\t\\t\\t<td class=\"label w1\"><span class=\"txt\">2018</span></td>\\n\\t\\t\\t\\t\\t<td class=\"data w1\"><span class=\"oscil\"><font color=\"#306EFF\">14,34%</font></span></td>\\n\\t\\t\\t\\t\\t<td class=\"label w2\"><span class=\"help tips\" title=\"Pre\\xe7o da a\\xe7\\xe3o dividido pelos Ativos Circulantes L\\xedquidos por a\\xe7\\xe3o. Ativo Circ. L\\xedq. \\xe9 obtido subtraindo os ativos circulantes pelas d\\xedvidas de curto e longo prazo, ou seja, ap\\xf3s o pagamento de todas as d\\xedvidas, quanto sobraria dos ativos mais l\\xedquidos da empresa (caixa, estoque, etc)\">?</span><span class=\"txt\">P/Ativ Circ Liq</span></td>\\n\\t\\t\\t\\t\\t<td class=\"data w2\"><span class=\"txt\">\\n          -</span></td>\\n\\t\\t\\t\\t\\t<td class=\"label\"><span class=\"help tips\" title=\"Retorno sobre o Capital Investido: Calculado dividindo-se o EBIT por (Ativos - Fornecedores - Caixa). Informa o retorno que a empresa consegue sobre o capital total aplicado.\">?</span><span class=\"txt\">ROIC</span></td>\\n\\t\\t\\t\\t\\t<td class=\"data\"><span class=\"txt\">\\n          -</span></td>\\n\\t\\t\\t\\t</tr>\\n\\t\\t\\t\\t<tr>\\n\\t\\t\\t\\t\\t<td class=\"label w1\"><span class=\"txt\">2017</span></td>\\n\\t\\t\\t\\t\\t<td class=\"data w1\"><span class=\"oscil\"><font color=\"#306EFF\">103,96%</font></span></td>\\n\\t\\t\\t\\t\\t<td class=\"label\"><span class=\"help tips\" title=\"Dividend Yield: Dividendo pago por a\\xe7\\xe3o dividido pelo pre\\xe7o da a\\xe7\\xe3o. \\xc9 o rendimento gerado para o dono da a\\xe7\\xe3o pelo pagamento de dividendos.\">?</span><span class=\"txt\">Div. Yield</span></td>\\n\\t\\t\\t\\t\\t<td class=\"data\"><span class=\"txt\">2,1%</span></td>\\n\\t\\t\\t\\t\\t<td class=\"label\"><span class=\"help tips\" title=\"Retorno sobre o Patrim\\xf4nio L\\xedquido: Lucro l\\xedquido dividido pelo Patrim\\xf4nio L\\xedquido\">?</span><span class=\"txt\">ROE</span></td>\\n\\t\\t\\t\\t\\t<td class=\"data\"><span class=\"txt\">\\n          0,1%</span></td>\\n\\t\\t\\t\\t</tr>\\n\\t\\t\\t\\t<tr>\\n\\t\\t\\t\\t\\t<td class=\"label w1\"><span class=\"txt\">2016</span></td>\\n\\t\\t\\t\\t\\t<td class=\"data w1\"><span class=\"oscil\"><font color=\"#306EFF\">199,09%</font></span></td>\\n\\t\\t\\t\\t\\t<td class=\"label\"><span class=\"help tips\" title=\"Valor da Firma (Enterprise Value dividido pelo EBITDA.\">?</span><span class=\"txt\">EV / EBITDA</span></td>\\n\\t\\t\\t\\t\\t<td class=\"data\"><span class=\"txt\">\\n          -761,67</span></td>\\n\\t\\t\\t\\t\\t<td class=\"label\"><span class=\"help tips\" title=\"Ativo Circulante dividido pelo Passivo Circulante: Reflete a capacidade de pagamento da empresa no curto prazo.\">?</span><span class=\"txt\">Liquidez Corr</span></td>\\n\\t\\t\\t\\t\\t<td class=\"data\"><span class=\"txt\">\\n          -</span></td>\\n\\t\\t\\t\\t</tr>\\n\\t\\t\\t\\t<tr>\\n\\t\\t\\t\\t\\t<td class=\"label w1\"><span class=\"txt\">2015</span></td>\\n\\t\\t\\t\\t\\t<td class=\"data w1\"><span class=\"oscil\"><font color=\"#F75D59\">-59,91%</font></span></td>\\n\\t\\t\\t\\t\\t<td class=\"label\"><span class=\"help tips\" title=\"Valor da Firma (Enterprise Value dividido pelo EBIT.\">?</span><span class=\"txt\">EV / EBIT</span></td>\\n\\t\\t\\t\\t\\t<td class=\"data\"><span class=\"txt\">\\n          -761,67</span></td>\\n\\t\\t\\t\\t\\t<td class=\"label\"><span class=\"help tips\" title=\"D\\xedvida Bruta total (D\\xedvida+Deb\\xeantures) dividido pelo Patrim\\xf4nio L\\xedquido\">?</span><span class=\"txt\">Div Br/ Patrim</span></td>\\n\\t\\t\\t\\t\\t<td class=\"data\"><span class=\"txt\">\\n          -</span></td>\\n\\t\\t\\t\\t</tr>\\n\\t\\t\\t\\t<tr>\\n\\t\\t\\t\\t\\t<td class=\"label w1\"><span class=\"txt\"></span></td>\\n\\t\\t\\t\\t\\t<td class=\"data w1\"><span class=\"oscil\"></span></td>\\n\\t\\t\\t\\t\\t<td class=\"label\"><span class=\"help tips\" title=\"Crescimento da Receita L\\xedquida nos \\xfaltimos 5 anos\">?</span><span class=\"txt\">Cres. Rec (5a)</span></td>\\n\\t\\t\\t\\t\\t<td class=\"data\"><span class=\"txt\">\\n          -</span></td>\\n\\t\\t\\t\\t\\t<td class=\"label\"><span class=\"help tips\" title=\"Receita L\\xedquida dividido por Ativos Totais. Indica a efici\\xeancia com a qual a empresa usa seus ativos para gerar vendas\">?</span><span class=\"txt\">Giro Ativos</span></td>\\n\\t\\t\\t\\t\\t<td class=\"data\"><span class=\"txt\">\\n          -</span></td>\\n\\t\\t\\t\\t</tr>\\n\\t\\t\\t</table>\\n\\n              <table class=\"w728\">\\n          <tr>\\n            <td class=\"nivel1\" colspan=\"4\"><span class=\"txt\">Dados Balan\\xe7o Patrimonial</span></td>\\n          </tr>\\n          <tr>\\n            <td class=\"label w2\"><span class=\"help tips\" title=\"Todos os bens, direitos e valores a receber de uma entidade\">?</span><span class=\"txt\">Ativo</span></td>\\n            <td class=\"data w3\"><span class=\"txt\">11.031.700.000</span></td>\\n            <td class=\"label w2\"><span class=\"help tips\" title=\"D\\xedvida Bruta \\xe9 obtida somando-se as d\\xedvidas de curto e longo prazo mais as deb\\xeantures de curto e longo prazo.\">?</span><span class=\"txt\">D\\xedv. Bruta</span></td>\\n            <td class=\"data w3\"><span class=\"txt\">225.395.000</span></td>\\n          </tr>\\n          <tr>\\n            <td class=\"label\"><span class=\"help tips\" title=\"Contas que representam bens numer\\xe1rios (Dinheiro)\">?</span><span class=\"txt\">Disponibilidades</span></td>\\n            <td class=\"data\"><span class=\"txt\">199.618.000</span></td>\\n            <td class=\"label\"><span class=\"help tips\" title=\"D\\xedvida Bruta menos Disponibilidades. Se este valor \\xe9 negativo, significa que a empresa possui caixa l\\xedquido positivo.\">?</span><span class=\"txt\">D\\xedv. L\\xedquida</span></td>\\n            <td class=\"data\"><span class=\"txt\">25.777.000</span></td>\\n          </tr>\\n          <tr>\\n            <td class=\"label\"><span class=\"help tips\" title=\"Bens ou direitos que podem ser convertido em dinheiro em curto prazo\">?</span><span class=\"txt\">Ativo Circulante</span></td>\\n            <td class=\"data\"><span class=\"txt\">553.142.000</span></td>\\n            <td class=\"label\"><span class=\"help tips\" title=\"O patrim\\xf4nio l\\xedquido representa os valores que os s\\xf3cios ou acionistas t\\xeam na empresa em um determinado momento. No balan\\xe7o patrimonial, a diferen\\xe7a entre o valor dos ativos e dos passivos e resultado de exerc\\xedcios futuros representa o PL (Patrim\\xf4nio L\\xedquido), que \\xe9 o valor cont\\xe1bil devido pela pessoa jur\\xeddica aos s\\xf3cios ou acionistas.\">?</span><span class=\"txt\">Patrim. L\\xedq</span></td>\\n            <td class=\"data\"><span class=\"txt\">10.522.400.000</span></td>\\n          </tr>\\n        </table>\\n\\n        <table class=\"w728\">\\n          <tr>\\n            <td class=\"nivel1\" colspan=\"4\"><span class=\"txt\">Dados demonstrativos de resultados</span></td>\\n          </tr>\\n          <tr>\\n            <td class=\"nivel2 w5\" colspan=\"2\"><span class=\"txt\">\\xdaltimos 12 meses</span></td>\\n            <td class=\"nivel2 w5\" colspan=\"2\"><span class=\"txt\">\\xdaltimos 3 meses</span></td>\\n          </tr>\\n          <tr>\\n            <td class=\"label w2\" ><span class=\"help tips\" title=\"Receita L\\xedquida \\xe9 a soma de todas as vendas da empresa em determinado per\\xedodo deduzido de devolu\\xe7\\xf5es, descontos e alguns impostos.\">?</span><span class=\"txt\">Receita L\\xedquida</span></td>\\n            <td class=\"data w3\"><span class=\"txt\">0</span></td>\\n            <td class=\"label w2\"><span class=\"help tips\" title=\"Receita L\\xedquida \\xe9 a soma de todas as vendas da empresa em determinado per\\xedodo deduzido de devolu\\xe7\\xf5es, descontos e alguns impostos.\">?</span><span class=\"txt\">Receita L\\xedquida</span></td>\\n            <td class=\"data w3\"><span class=\"txt\">0</span></td>\\n          </tr>\\n          <tr>\\n            <td class=\"label\"><span class=\"help tips\" title=\"Earnings Before Interest and Taxes - Lucro antes dos impostos e juros: Uma aproxima\\xe7\\xe3o do lucro operacional da empresa.\">?</span><span class=\"txt\">EBIT</span></td>\\n            <td class=\"data\"><span class=\"txt\">-17.466.000</span></td>\\n            <td class=\"label\"><span class=\"help tips\" title=\"Earnings Before Interest and Taxes - Lucro antes dos impostos e juros: Uma aproxima\\xe7\\xe3o do lucro operacional da empresa.\">?</span><span class=\"txt\">EBIT</span></td>\\n            <td class=\"data\"><span class=\"txt\">-2.992.000</span></td>\\n          </tr>\\n          <tr>\\n            <td class=\"label\"><span class=\"help tips\" title=\"O que sobra das vendas ap\\xf3s o todas as despesas.\">?</span><span class=\"txt\">Lucro L\\xedquido</span></td>\\n            <td class=\"data\"><span class=\"txt\">5.640.000</span></td>\\n            <td class=\"label\"><span class=\"help tips\" title=\"O que sobra das vendas ap\\xf3s o todas as despesas.\">?</span><span class=\"txt\">Lucro L\\xedquido</span></td>\\n            <td class=\"data\"><span class=\"txt\">53.756.000</span></td>\\n          </tr>\\n        </table>\\n        \\n        \\n              \\n\\t\\t\\t<BR>\\n<script async src=\"https://pagead2.googlesyndication.com/pagead/js/adsbygoogle.js\"></script>\\n<!-- anuncioRodape -->\\n<ins class=\"adsbygoogle\"\\n     style=\"display:inline-block;width:728px;height:90px\"\\n     data-ad-client=\"ca-pub-3119085269630402\"\\n     data-ad-slot=\"1513786315\"></ins>\\n<script>\\n     (adsbygoogle = window.adsbygoogle || []).push({});\\n</script>\\n<script>\\nwindow.onload = function() {\\n  var req = new XMLHttpRequest();\\n  req.open(\\'POST\\', \\'pv.php\\', true);\\n  req.send(null);\\n};\\n</script>\\n\\t\\t</div>\\n\\t</div>\\n\\t\\t<div class=\"rodape\">\\n\\t\\t<div class=\"center\">\\n\\t\\t\\t<ul>\\n\\t\\t\\t\\t<li><strong>Menu institucional:</strong></li>\\n\\t\\t\\t\\t<li><a class=\"home\" href=\"index.php\">P\\xe1gina inicial</a>|</li>\\n\\t\\t\\t\\t<li><a class=\"conheca\" href=\"conheca.php\">Conhe\\xe7a o site</a>|</li>\\n\\t\\t\\t\\t<li><a class=\"consciente\" href=\"consciente.php\">Investimento Consciente</a>|</li>\\n\\t\\t\\t\\t<li><a class=\"contato\" href=\"contato.php\">Entre em contato</a>|</li>\\n\\t\\t\\t<!---\\t<li><a class=\"assine\" href=\"assine.php\">Assine agora</a></li> --->\\n\\t\\t\\t</ul>\\n\\t\\t\\t<ul>\\n\\t\\t\\t\\t<li><strong>Menu software: </strong></li>\\n\\t\\t\\t\\t<li><a class=\"graficos\" href=\"graficos.php?tipo=1\">Gr\\xe1ficos</a>|</li>\\n\\t\\t\\t\\t<li><a class=\"detalhes\" href=\"detalhes.php\">Detalhes</a>|</li>\\n\\t\\t\\t\\t<li><a class=\"cotacoes\" href=\"cotacoes.php\">Hist\\xf3rico de cota\\xe7\\xf5es</a>|</li>\\n\\t\\t\\t\\t<li><a class=\"proventos\" href=\"proventos.php\">Proventos</a>|</li>\\n\\t\\t\\t\\t<li><a class=\"historicos\" href=\"balancos.php\">Balan\\xe7os Hist\\xf3ricos</a></li>\\n\\t\\t\\t</ul>\\n\\t\\t</div>\\n\\t</div>\\n\\t<script type=\"text/javascript\">\\n    var gaJsHost = ((\"https:\" == document.location.protocol) ? \"https://ssl.\" : \"http://www.\");\\n    document.write(unescape(\"%3Cscript src=\\'\" + gaJsHost + \"google-analytics.com/ga.js\\' type=\\'text/javascript\\'%3E%3C/script%3E\"));\\n    </script>\\n    <script type=\"text/javascript\">\\n    var pageTracker = _gat._getTracker(\"UA-3584125-1\");\\n    pageTracker._initData();\\n    pageTracker._trackPageview();\\n  </script>\\n</body>\\n</html>\\n']"
            ]
          },
          "metadata": {
            "tags": []
          },
          "execution_count": 187
        }
      ]
    },
    {
      "cell_type": "code",
      "metadata": {
        "id": "k9kQtUPUkRFQ",
        "colab_type": "code",
        "colab": {}
      },
      "source": [
        "conteudo = pd.read_html(lista_empresas['Papel' == 'BRAP4'])"
      ],
      "execution_count": 192,
      "outputs": []
    },
    {
      "cell_type": "code",
      "metadata": {
        "id": "W23b7fL60Igw",
        "colab_type": "code",
        "colab": {
          "base_uri": "https://localhost:8080/",
          "height": 680
        },
        "outputId": "003c1288-ee54-4c34-d984-d8bb53d66524"
      },
      "source": [
        "conteudo"
      ],
      "execution_count": 193,
      "outputs": [
        {
          "output_type": "execute_result",
          "data": {
            "text/plain": [
              "[           0                        1                2           3\n",
              " 0     ?Papel                    BRAP4         ?Cotação        3815\n",
              " 1      ?Tipo                    PN N1    ?Data últ cot  13/07/2020\n",
              " 2   ?Empresa      BRADESPAR S/A PN N1      ?Min 52 sem        2435\n",
              " 3     ?Setor  Holdings Diversificadas      ?Max 52 sem        4239\n",
              " 4  ?Subsetor  Holdings Diversificadas  ?Vol $ méd (2m)  88.043.000,\n",
              "                    0               1                        2            3\n",
              " 0  ?Valor de mercado  13.277.500.000  ?Últ balanço processado   31/03/2020\n",
              " 1    ?Valor da firma  13.303.300.000              ?Nro. Ações  348.034.000,\n",
              "              0  ...                             5\n",
              " 0   Oscilações  ...  Indicadores fundamentalistas\n",
              " 1          Dia  ...                           002\n",
              " 2          Mês  ...                          3023\n",
              " 3      30 dias  ...                             -\n",
              " 4     12 meses  ...                             -\n",
              " 5         2020  ...                          0,0%\n",
              " 6         2019  ...                         -0,2%\n",
              " 7         2018  ...                             -\n",
              " 8         2017  ...                          0,1%\n",
              " 9         2016  ...                             -\n",
              " 10        2015  ...                             -\n",
              " 11         NaN  ...                             -\n",
              " \n",
              " [12 rows x 6 columns],\n",
              "                            0  ...                          3\n",
              " 0  Dados Balanço Patrimonial  ...  Dados Balanço Patrimonial\n",
              " 1                     ?Ativo  ...                225.395.000\n",
              " 2          ?Disponibilidades  ...                 25.777.000\n",
              " 3          ?Ativo Circulante  ...             10.522.400.000\n",
              " \n",
              " [4 rows x 4 columns],\n",
              "                                     0  ...                                   3\n",
              " 0  Dados demonstrativos de resultados  ...  Dados demonstrativos de resultados\n",
              " 1                    Últimos 12 meses  ...                     Últimos 3 meses\n",
              " 2                    ?Receita Líquida  ...                                   0\n",
              " 3                               ?EBIT  ...                          -2.992.000\n",
              " 4                      ?Lucro Líquido  ...                          53.756.000\n",
              " \n",
              " [5 rows x 4 columns]]"
            ]
          },
          "metadata": {
            "tags": []
          },
          "execution_count": 193
        }
      ]
    },
    {
      "cell_type": "code",
      "metadata": {
        "id": "lLub2VtM2FQV",
        "colab_type": "code",
        "colab": {}
      },
      "source": [
        "con[0]"
      ],
      "execution_count": null,
      "outputs": []
    },
    {
      "cell_type": "code",
      "metadata": {
        "id": "wQfMgG7X3_ab",
        "colab_type": "code",
        "colab": {}
      },
      "source": [
        "con[1]"
      ],
      "execution_count": null,
      "outputs": []
    },
    {
      "cell_type": "code",
      "metadata": {
        "id": "cjgiWlKQ4HAM",
        "colab_type": "code",
        "colab": {}
      },
      "source": [
        "con[2]"
      ],
      "execution_count": null,
      "outputs": []
    },
    {
      "cell_type": "code",
      "metadata": {
        "id": "4Eq1y5A061oB",
        "colab_type": "code",
        "colab": {}
      },
      "source": [
        "con[3]"
      ],
      "execution_count": null,
      "outputs": []
    },
    {
      "cell_type": "code",
      "metadata": {
        "id": "BTaMbk6264Z0",
        "colab_type": "code",
        "colab": {}
      },
      "source": [
        "con[4]"
      ],
      "execution_count": null,
      "outputs": []
    }
  ]
}